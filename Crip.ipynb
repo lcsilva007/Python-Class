{
  "nbformat": 4,
  "nbformat_minor": 0,
  "metadata": {
    "colab": {
      "name": "Crip.ipynb",
      "provenance": [],
      "authorship_tag": "ABX9TyOJuJFjbXHREA07CZOm5qGl",
      "include_colab_link": true
    },
    "kernelspec": {
      "name": "python3",
      "display_name": "Python 3"
    },
    "language_info": {
      "name": "python"
    }
  },
  "cells": [
    {
      "cell_type": "markdown",
      "metadata": {
        "id": "view-in-github",
        "colab_type": "text"
      },
      "source": [
        "<a href=\"https://colab.research.google.com/github/LuisSilvaS/Python-Class/blob/main/Crip.ipynb\" target=\"_parent\"><img src=\"https://colab.research.google.com/assets/colab-badge.svg\" alt=\"Open In Colab\"/></a>"
      ]
    },
    {
      "cell_type": "code",
      "execution_count": null,
      "metadata": {
        "id": "hkRBy_z67l_7"
      },
      "outputs": [],
      "source": [
        "l = '''qwertyuiopasdfghjklzxcvbnm123456789\"!@#$%¨&*()-+~[],.; '''\n",
        "def crip(msg):\n",
        "  m=''\n",
        "  global l\n",
        "  for i in msg:\n",
        "      m+=str(bin(l.index(i)**2))[2:]\n",
        "      m+='2'\n",
        "  print (m[:-1])\n",
        "\n",
        "def descrip(msg):\n",
        "      m=''\n",
        "      global l\n",
        "      msg=msg.split('2')\n",
        "      for i in msg:\n",
        "          print(l[int(int(eval('0b' +i))**0.5)])\n",
        "      print(m)"
      ]
    }
  ]
}