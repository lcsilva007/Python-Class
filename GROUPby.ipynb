{
  "nbformat": 4,
  "nbformat_minor": 0,
  "metadata": {
    "colab": {
      "name": "GROUPby.ipynb",
      "provenance": [],
      "authorship_tag": "ABX9TyORYBCdEYw0tKDkNxLiqG6E",
      "include_colab_link": true
    },
    "kernelspec": {
      "name": "python3",
      "display_name": "Python 3"
    },
    "language_info": {
      "name": "python"
    }
  },
  "cells": [
    {
      "cell_type": "markdown",
      "metadata": {
        "id": "view-in-github",
        "colab_type": "text"
      },
      "source": [
        "<a href=\"https://colab.research.google.com/github/lcsilva007/Python-Class/blob/main/GROUPby.ipynb\" target=\"_parent\"><img src=\"https://colab.research.google.com/assets/colab-badge.svg\" alt=\"Open In Colab\"/></a>"
      ]
    },
    {
      "cell_type": "code",
      "execution_count": 1,
      "metadata": {
        "colab": {
          "base_uri": "https://localhost:8080/"
        },
        "id": "sAZXNVhHg9_B",
        "outputId": "8fc60a5c-b169-499d-8ef1-6309e1791065"
      },
      "outputs": [
        {
          "output_type": "stream",
          "name": "stdout",
          "text": [
            "Agrupamento: A\n",
            "\t{'nome': 'Luiz', 'nota': 'A'}\n",
            "\t{'nome': 'Fabrício', 'nota': 'A'}\n",
            "\t{'nome': 'João', 'nota': 'A'}\n",
            "\t3 alunos tiraram nota A\n",
            "Agrupamento: B\n",
            "\t{'nome': 'Letícia', 'nota': 'B'}\n",
            "\t{'nome': 'Eduardo', 'nota': 'B'}\n",
            "\t{'nome': 'Anderson', 'nota': 'B'}\n",
            "\t3 alunos tiraram nota B\n",
            "Agrupamento: C\n",
            "\t{'nome': 'Rosemary', 'nota': 'C'}\n",
            "\t{'nome': 'André', 'nota': 'C'}\n",
            "\t2 alunos tiraram nota C\n",
            "Agrupamento: D\n",
            "\t{'nome': 'Joana', 'nota': 'D'}\n",
            "\t1 alunos tiraram nota D\n"
          ]
        }
      ],
      "source": [
        "from itertools import groupby, tee\n",
        "\n",
        "alunos = [\n",
        "    {'nome': 'Luiz', 'nota': 'A'},\n",
        "    {'nome': 'Letícia', 'nota': 'B'},\n",
        "    {'nome': 'Fabrício', 'nota': 'A'},\n",
        "    {'nome': 'Rosemary', 'nota': 'C'},\n",
        "    {'nome': 'Joana', 'nota': 'D'},\n",
        "    {'nome': 'João', 'nota': 'A'},\n",
        "    {'nome': 'Eduardo', 'nota': 'B'},\n",
        "    {'nome': 'André', 'nota': 'C'},\n",
        "    {'nome': 'Anderson', 'nota': 'B'},\n",
        "]\n",
        "\n",
        "\n",
        "def ordena(item):\n",
        "  return item['nota']\n",
        "\n",
        "\n",
        "alunos.sort(key=ordena)\n",
        "alunos_agrupados = groupby(alunos, ordena)\n",
        "\n",
        "'''\n",
        "# Sem tee (com list)\n",
        "for agrupamento, valores_agrupados in alunos_agrupados:\n",
        "  valores = list(valores_agrupados)\n",
        "  print(f'Agrupamento: {agrupamento}')\n",
        "  for aluno in valores:\n",
        "    print(f'\\t{aluno}')\n",
        "  quantidade = len(valores)\n",
        "  print(f'\\t{quantidade} alunos tiraram nota {agrupamento}')\n",
        "'''\n",
        "\n",
        "# Com tee\n",
        "for agrupamento, valores_agrupados in alunos_agrupados:\n",
        "  v1, v2 = tee(valores_agrupados)\n",
        "\n",
        "  print(f'Agrupamento: {agrupamento}')\n",
        "\n",
        "  for aluno in v1:\n",
        "    print(f'\\t{aluno}')\n",
        "\n",
        "  quantidade = len(list(v2))\n",
        "  print(f'\\t{quantidade} alunos tiraram nota {agrupamento}')\n"
      ]
    },
    {
      "cell_type": "code",
      "source": [
        ""
      ],
      "metadata": {
        "id": "QPdn1ahbh7oq"
      },
      "execution_count": null,
      "outputs": []
    }
  ]
}