{
  "nbformat": 4,
  "nbformat_minor": 0,
  "metadata": {
    "colab": {
      "name": "Métodos de classes - Python Orientado a Objetos.ipynb",
      "provenance": [],
      "authorship_tag": "ABX9TyNs4nu/9jPj/KADZflRDRtK",
      "include_colab_link": true
    },
    "kernelspec": {
      "name": "python3",
      "display_name": "Python 3"
    },
    "language_info": {
      "name": "python"
    }
  },
  "cells": [
    {
      "cell_type": "markdown",
      "metadata": {
        "id": "view-in-github",
        "colab_type": "text"
      },
      "source": [
        "<a href=\"https://colab.research.google.com/github/lcsilva007/Python-Class/blob/main/M%C3%A9todos_de_classes_Python_Orientado_a_Objetos.ipynb\" target=\"_parent\"><img src=\"https://colab.research.google.com/assets/colab-badge.svg\" alt=\"Open In Colab\"/></a>"
      ]
    },
    {
      "cell_type": "markdown",
      "source": [
        " main\n",
        "\n"
      ],
      "metadata": {
        "id": "Ec_FBuDr-B6C"
      }
    },
    {
      "cell_type": "code",
      "source": [
        "from pessoa import Pessoa\n",
        "\n",
        "p1 = Pessoa('Luiz', 29)\n",
        "p2 = Pessoa('João', 32)\n",
        "\n",
        "print(p1.get_ano_nascimento())\n",
        "print(p2.get_ano_nascimento())\n",
        "\n"
      ],
      "metadata": {
        "id": "rll8GtM_99Y-"
      },
      "execution_count": null,
      "outputs": []
    },
    {
      "cell_type": "markdown",
      "source": [
        "Pessoa"
      ],
      "metadata": {
        "id": "uVdKIUZv-Igp"
      }
    },
    {
      "cell_type": "code",
      "execution_count": null,
      "metadata": {
        "id": "XOmPmvk992fT"
      },
      "outputs": [],
      "source": [
        "from datetime import datetime\n",
        "\n",
        "class Pessoa:\n",
        "    ano_atual = int(datetime.strftime(datetime.now(), '%Y'))\n",
        "\n",
        "    def __init__(self, nome, idade, comendo=False, falando=False):\n",
        "       self.nome = nome\n",
        "       self.idade = idade\n",
        "       self.comendo = comendo\n",
        "       self.falando = falando\n",
        "\n",
        "    def falar(self, assunto):\n",
        "        if self.comendo:\n",
        "            print(f'{self.nome} não pode falar comendo.')\n",
        "            return\n",
        "\n",
        "        if self.falando:\n",
        "            print(f'{self.nome} já está falando.')\n",
        "            return\n",
        "\n",
        "        print(f'{self.nome} está falando sobre {assunto}.')\n",
        "        self.falando = True\n",
        "\n",
        "    def parar_falar(self):\n",
        "        if not self.falando:\n",
        "            print(f'{self.nome} não está falando')\n",
        "            return\n",
        "\n",
        "        print(f'{self.nome} parou de falar.')\n",
        "        self.falando = False\n",
        "\n",
        "    def comer(self, alimento):\n",
        "        if self.comendo:\n",
        "            print(f'{self.nome} já está comendo.')\n",
        "            return\n",
        "\n",
        "        if self.falando:\n",
        "            print(f'{self.nome} não pode comer falando.')\n",
        "            return\n",
        "\n",
        "        print(f'{self.nome} está comendo {alimento}.')\n",
        "        self.comendo = True\n",
        "\n",
        "    def parar_comer(self):\n",
        "        if not self.comendo:\n",
        "            print(f'{self.nome} não está comendo.')\n",
        "            return\n",
        "\n",
        "        print(f'{self.nome} parou de comer.')\n",
        "        self.comendo = False\n",
        "\n",
        "    def get_ano_nascimento(self):\n",
        "        return self.ano_atual - self.idade\n",
        "    \n",
        "    @classmethod\n",
        "    def por_ano_nascimento(cls, nomw, ano_nascimento):\n",
        "        idade = cls.ano_atual - ano_nascimento\n",
        "        return cls(namoe, idade)"
      ]
    }
  ]
}